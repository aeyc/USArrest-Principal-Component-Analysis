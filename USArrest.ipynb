{
  "cells": [
    {
      "cell_type": "markdown",
      "metadata": {
        "id": "lZNSjfe-v0c7"
      },
      "source": [
        "# Initial Steps"
      ]
    },
    {
      "cell_type": "markdown",
      "metadata": {
        "id": "nWhkbosZviS5"
      },
      "source": [
        "## Mounting Drive"
      ]
    },
    {
      "cell_type": "code",
      "execution_count": null,
      "metadata": {
        "id": "w5WYtj0MvgwS"
      },
      "outputs": [],
      "source": [
        "from google.colab import drive\n",
        "drive.mount('/content/gdrive')"
      ]
    },
    {
      "cell_type": "markdown",
      "metadata": {
        "id": "yha1D3zbvwq0"
      },
      "source": [
        "## Libraries"
      ]
    },
    {
      "cell_type": "code",
      "execution_count": null,
      "metadata": {
        "id": "gPZhlnI2vy1e"
      },
      "outputs": [],
      "source": [
        "import sys\n",
        "import os\n",
        "\n",
        "#Plots\n",
        "import matplotlib as mpl\n",
        "import matplotlib.pyplot as plt\n",
        "%matplotlib inline\n",
        "import seaborn as sns\n",
        "\n",
        "#Data Processing\n",
        "import pandas as pd\n",
        "import numpy as np\n",
        "import math\n",
        "\n",
        "#Table Formatter\n",
        "from google.colab.data_table import DataTable\n",
        "DataTable.max_columns = 50\n",
        "\n",
        "#Principal Components\n",
        "from sklearn.preprocessing import scale\n",
        "from sklearn.decomposition import PCA\n",
        "\n",
        "\n"
      ]
    },
    {
      "cell_type": "markdown",
      "metadata": {
        "id": "t8V_5OcDNfoV"
      },
      "source": [
        "## Methods"
      ]
    },
    {
      "cell_type": "markdown",
      "metadata": {
        "id": "ug4Q7l5wUFhS"
      },
      "source": [
        "### Correlation"
      ]
    },
    {
      "cell_type": "code",
      "execution_count": null,
      "metadata": {
        "id": "qKJGQAsmNi5H"
      },
      "outputs": [],
      "source": [
        "#To create Pearson Correlation Matrix call the function:\n",
        "#pearson_corr_df(df)\n",
        "\n",
        "\n",
        "#pearson_corr method to calculate correlation between two variables with Pearson Correlation Formula\n",
        "#returns the calculated correlation between two variables\n",
        "def pearson_corr(col1, col2):\n",
        "  if len(col1) != len(col2):\n",
        "    print(\"The columns should have same length! Correlation calculation failed!\")\n",
        "    return -1\n",
        "  mean_x, mean_y = col1.mean(), col2.mean()\n",
        "  return sum([(col1[i]-mean_x)*(col2[i]-mean_y) for i in range(len(col1))])/math.sqrt(sum([(col1[i]-mean_x)**2 for i in range(len(col1))])*sum([(col2[i]-mean_y)**2 for i in range(len(col2))]))\n",
        "\n",
        "#pearson_corr_df takes a df and prints shows correlation matrix with gradient method\n",
        "def pearson_corr_df(df):\n",
        "  labels = df.select_dtypes(include=[\"number\"]).columns\n",
        "  matrix = pd.DataFrame(0.0, index=labels, columns=labels)\n",
        "  for i in matrix.index:\n",
        "    for j in matrix.columns:\n",
        "      matrix[i][j] = pearson_corr(df[i], df[j])\n",
        "  return matrix.style.background_gradient()"
      ]
    },
    {
      "cell_type": "code",
      "execution_count": null,
      "metadata": {
        "id": "vq3c5rPshLYo"
      },
      "outputs": [],
      "source": [
        "def centralize(df):\n",
        "  return df.copy() - np.mean(df.copy().T,axis=1)"
      ]
    },
    {
      "cell_type": "code",
      "execution_count": null,
      "metadata": {
        "id": "XYE2jbB9ijCC"
      },
      "outputs": [],
      "source": [
        "def PCA_fromScratch(df):\n",
        "  features = pd.DataFrame(scale(df), index=df.index, columns=df.columns)\n",
        "  print(\"Covariance Matrix:\\n\",features.cov())\n",
        "  evalue, evect = np.linalg.eig(features.cov())\n",
        "  return evalue, evect, pd.DataFrame(evect.T.dot(features.T).T,columns=[\"PC\"+str(i) for i in range(1,5)], index=features.index)"
      ]
    },
    {
      "cell_type": "markdown",
      "metadata": {
        "id": "0WrMAX49wDog"
      },
      "source": [
        "## Initial Data"
      ]
    },
    {
      "cell_type": "code",
      "execution_count": null,
      "metadata": {
        "id": "nIXi-dgwwLsK"
      },
      "outputs": [],
      "source": [
        "!ls /content/gdrive/MyDrive/LowRankApproaches/Data"
      ]
    },
    {
      "cell_type": "code",
      "execution_count": null,
      "metadata": {
        "id": "Lb0BaFL7wDGf"
      },
      "outputs": [],
      "source": [
        "path = \"/content/gdrive/MyDrive/LowRankApproaches/Data/USArrests.csv\""
      ]
    },
    {
      "cell_type": "code",
      "execution_count": null,
      "metadata": {
        "id": "SZ8okM2_wXyM"
      },
      "outputs": [],
      "source": [
        "df = pd.read_csv(path,index_col = 0)\n",
        "df"
      ]
    },
    {
      "cell_type": "code",
      "execution_count": null,
      "metadata": {
        "id": "dilYEDYRwb_w"
      },
      "outputs": [],
      "source": [
        "df.info()"
      ]
    },
    {
      "cell_type": "code",
      "execution_count": null,
      "metadata": {
        "id": "U2f-gVGvwimD"
      },
      "outputs": [],
      "source": [
        "df.describe()"
      ]
    },
    {
      "cell_type": "code",
      "execution_count": null,
      "metadata": {
        "id": "kmtZwhihwks_"
      },
      "outputs": [],
      "source": [
        "df.var()"
      ]
    },
    {
      "cell_type": "markdown",
      "metadata": {
        "id": "QPMuywBtxzgX"
      },
      "source": [
        "## Correlation"
      ]
    },
    {
      "cell_type": "code",
      "execution_count": null,
      "metadata": {
        "id": "4riIiYEoxiHu"
      },
      "outputs": [],
      "source": [
        "pearson_corr_df(df)"
      ]
    },
    {
      "cell_type": "markdown",
      "metadata": {
        "id": "ee2GuOW0zJmV"
      },
      "source": [
        "## Principal Components"
      ]
    },
    {
      "cell_type": "code",
      "execution_count": null,
      "metadata": {
        "id": "v7uSlgFT0Zjx"
      },
      "outputs": [],
      "source": [
        "evalue, evect,df_plot = PCA_fromScratch(df)\n",
        "df_plot"
      ]
    },
    {
      "cell_type": "code",
      "execution_count": null,
      "metadata": {
        "id": "IvasWU_U0yA9"
      },
      "outputs": [],
      "source": [
        "evalue"
      ]
    },
    {
      "cell_type": "code",
      "execution_count": null,
      "metadata": {
        "id": "to6x9q0p1Crr"
      },
      "outputs": [],
      "source": [
        "evect"
      ]
    },
    {
      "cell_type": "code",
      "execution_count": null,
      "metadata": {
        "id": "goCIhvQ_o8yL"
      },
      "outputs": [],
      "source": [
        "pd.DataFrame(scale(df),index = df.index, columns=df.columns).describe()"
      ]
    },
    {
      "cell_type": "code",
      "execution_count": null,
      "metadata": {
        "id": "SpGI7KTGwakD"
      },
      "outputs": [],
      "source": [
        "df_scaled.describe()"
      ]
    },
    {
      "cell_type": "code",
      "execution_count": null,
      "metadata": {
        "id": "YnFPjFZrwiQw"
      },
      "outputs": [],
      "source": [
        "df_scaled.var()"
      ]
    },
    {
      "cell_type": "code",
      "execution_count": null,
      "metadata": {
        "id": "YJwG39lzvYAZ"
      },
      "outputs": [],
      "source": [
        "pd.DataFrame(scale(df),index = df.index, columns=df.columns).var()"
      ]
    },
    {
      "cell_type": "code",
      "execution_count": null,
      "metadata": {
        "id": "o3bH_bMcngoy"
      },
      "outputs": [],
      "source": [
        "X = pd.DataFrame(scale(df), index=df.index, columns=df.columns)"
      ]
    },
    {
      "cell_type": "code",
      "execution_count": null,
      "metadata": {
        "id": "ml7xI5sRnWCU"
      },
      "outputs": [],
      "source": [
        "evect = pd.DataFrame(evect, index=df.columns, columns=['v1','v2','v3','v4'])\n",
        "evect"
      ]
    },
    {
      "cell_type": "code",
      "execution_count": null,
      "metadata": {
        "id": "X4iKGXHIJK2h"
      },
      "outputs": [],
      "source": [
        "fig , ax1 = plt.subplots(figsize=(9,7))\n",
        "ax1.set_xlim(-3.5,3.5)\n",
        "ax1.set_ylim(-3.5,3.5)\n",
        "# Plot Principal Components 1 and 2\n",
        "for i in df_plot.index:\n",
        "  ax1.annotate(i, (-df_plot.PC1.loc[i], -df_plot.PC2.loc[i]), ha='center')\n",
        "# Plot reference lines\n",
        "ax1.hlines(0,-3.5,3.5, linestyles='dotted', colors='grey')\n",
        "ax1.vlines(0,-3.5,3.5, linestyles='dotted', colors='grey')\n",
        "ax1.set_xlabel('First Principal Component')\n",
        "ax1.set_ylabel('Second Principal Component')\n",
        "# Plot Principal Component loading vectors, using a second y-axis.\n",
        "ax2 = ax1.twinx().twiny()\n",
        "ax2.set_ylim(-1,1)\n",
        "ax2.set_xlim(-1,1)\n",
        "# Plot labels for vectors. Variable ’a’ is a small offset parameter to separate arrow tip and t\n",
        "a = 1.07\n",
        "for i in evect[[\"v1\",\"v2\"]].index:\n",
        "  ax2.annotate(i, (-evect.v1.loc[i]*a, -evect.v2.loc[i]*a), color='red')\n",
        "# Plot vectors\n",
        "ax2.arrow(0,0,-evect.v1[0], -evect.v2[0])\n",
        "ax2.arrow(0,0,-evect.v1[1], -evect.v2[1])\n",
        "ax2.arrow(0,0,-evect.v1[2], -evect.v2[2])\n",
        "ax2.arrow(0,0,-evect.v1[3], -evect.v2[3])"
      ]
    },
    {
      "cell_type": "code",
      "execution_count": null,
      "metadata": {
        "id": "AJICLQbHoxch"
      },
      "outputs": [],
      "source": [
        "pca = PCA()\n",
        "df_plot = pd.DataFrame(pca.fit_transform(X), index=X.index)"
      ]
    },
    {
      "cell_type": "code",
      "execution_count": null,
      "metadata": {
        "id": "XJqE23NVKhQ0"
      },
      "outputs": [],
      "source": [
        "pca.explained_variance_"
      ]
    },
    {
      "cell_type": "code",
      "execution_count": null,
      "metadata": {
        "id": "7mK6DP6LKlDj"
      },
      "outputs": [],
      "source": [
        "pca.explained_variance_ratio_"
      ]
    },
    {
      "cell_type": "code",
      "execution_count": null,
      "metadata": {
        "id": "drEFi5PqKuGA"
      },
      "outputs": [],
      "source": [
        "plt.figure(figsize=(7,5))\n",
        "plt.plot([1,2,3,4], pca.explained_variance_ratio_, \"-o\")\n",
        "plt.ylabel(\"Proportion of Variance Explained\")\n",
        "plt.xlabel(\"Principal Component\")\n",
        "plt.xlim(0.75,4.25)\n",
        "plt.ylim(0,1.05)\n",
        "plt.xticks([1,2,3,4])"
      ]
    },
    {
      "cell_type": "code",
      "execution_count": null,
      "metadata": {
        "id": "oW13SuObKwpv"
      },
      "outputs": [],
      "source": [
        "plt.figure(figsize=(7,5))\n",
        "plt.plot([1,2,3,4], np.cumsum(pca.explained_variance_ratio_), \"-s\")\n",
        "plt.ylabel(\"Proportion of Variance Explained\")\n",
        "plt.xlabel(\"Principal Component\")\n",
        "plt.xlim(0.75,4.25)\n",
        "plt.ylim(0,1.05)\n",
        "plt.xticks([1,2,3,4])"
      ]
    },
    {
      "cell_type": "code",
      "execution_count": null,
      "metadata": {
        "id": "IlslJakTpnUn"
      },
      "outputs": [],
      "source": [
        "df"
      ]
    },
    {
      "cell_type": "code",
      "execution_count": null,
      "metadata": {
        "id": "0-AOgJ4fp9Ca"
      },
      "outputs": [],
      "source": [
        "df_scaled = (df-df.mean())/df.std()\n"
      ]
    },
    {
      "cell_type": "code",
      "execution_count": null,
      "metadata": {
        "id": "DfgAVGmmqR_Y"
      },
      "outputs": [],
      "source": [
        "df_scaled"
      ]
    },
    {
      "cell_type": "code",
      "execution_count": null,
      "metadata": {
        "colab": {
          "background_save": true
        },
        "id": "Bgu3uvRvqTC8"
      },
      "outputs": [],
      "source": [
        "u, s, v = np.linalg.svd(df_scaled, full_matrices=True)"
      ]
    },
    {
      "cell_type": "code",
      "execution_count": null,
      "metadata": {
        "colab": {
          "background_save": true
        },
        "id": "h0YVPCIKqaVx"
      },
      "outputs": [],
      "source": [
        "print(u.shape)\n",
        "print(s.shape)\n",
        "print(v.shape)"
      ]
    },
    {
      "cell_type": "code",
      "execution_count": null,
      "metadata": {
        "colab": {
          "background_save": true
        },
        "id": "DD46Xnj24304"
      },
      "outputs": [],
      "source": [
        "np.diag(np.vstack([np.diag(s), np.zeros((46, 4))])).shape"
      ]
    },
    {
      "cell_type": "code",
      "execution_count": null,
      "metadata": {
        "colab": {
          "background_save": true
        },
        "id": "CqFvlOm52hS9"
      },
      "outputs": [],
      "source": [
        "np.matmul(np.matmul(u, np.diag(np.vstack([np.diag(s), np.zeros((46, 4))]))), v)"
      ]
    },
    {
      "cell_type": "code",
      "execution_count": null,
      "metadata": {
        "colab": {
          "background_save": true
        },
        "id": "9F912k20qfTb"
      },
      "outputs": [],
      "source": [
        "var_explained = np.round(s**2/np.sum(s**2), decimals=3)\n",
        "var_explained\n",
        " \n",
        "sns.barplot(x=list(range(1,len(var_explained)+1)),\n",
        "            y=var_explained, color=\"limegreen\")\n",
        "plt.xlabel('SVs', fontsize=16)\n",
        "plt.ylabel('Percent Variance Explained', fontsize=16)\n",
        "plt.savefig('svd_scree_plot.png',dpi=100)"
      ]
    },
    {
      "cell_type": "markdown",
      "metadata": {
        "id": "PboS1tROquJi"
      },
      "source": [
        "Here is the Scree plot giving us the percentage of variance explained by each singular vector. We can see that the first vector explains most of the variation in the data."
      ]
    },
    {
      "cell_type": "code",
      "execution_count": null,
      "metadata": {
        "colab": {
          "background_save": true
        },
        "id": "B_aIZXJLqkW1"
      },
      "outputs": [],
      "source": [
        "labels= ['SV'+str(i) for i in range(1,4)]\n",
        "svd_df = pd.DataFrame(u[:,0:3], index=df.index.tolist(), columns=labels)\n",
        "svd_df=svd_df.reset_index()\n",
        "svd_df.rename(columns={'index':'states'}, inplace=True)\n",
        "svd_df.head()"
      ]
    },
    {
      "cell_type": "code",
      "execution_count": null,
      "metadata": {
        "colab": {
          "background_save": true
        },
        "id": "vHYqYgilrNeB"
      },
      "outputs": [],
      "source": [
        "\n",
        "# Scatter plot: SV1 and SV2\n",
        "sns.scatterplot(x=\"SV1\", y=\"SV2\", hue=\"states\",  \n",
        "                data=svd_df, s=100,\n",
        "                alpha=0.7)\n",
        "\n",
        "plt.xlabel('SV 1: {0}%'.format(var_explained[0]*100), fontsize=16)\n",
        "plt.ylabel('SV 2: {0}%'.format(var_explained[1]*100), fontsize=16)"
      ]
    },
    {
      "cell_type": "code",
      "execution_count": null,
      "metadata": {
        "colab": {
          "background_save": true
        },
        "id": "HvKa3wBPrW2t"
      },
      "outputs": [],
      "source": [
        "len(df)"
      ]
    },
    {
      "cell_type": "code",
      "execution_count": null,
      "metadata": {
        "colab": {
          "background_save": true
        },
        "id": "zlm9wBUZVP_w"
      },
      "outputs": [],
      "source": [
        "df.columns"
      ]
    },
    {
      "cell_type": "code",
      "execution_count": null,
      "metadata": {
        "colab": {
          "background_save": true
        },
        "id": "6NDKnrweWAML"
      },
      "outputs": [],
      "source": []
    }
  ],
  "metadata": {
    "colab": {
      "provenance": []
    },
    "kernelspec": {
      "display_name": "Python 3",
      "name": "python3"
    },
    "language_info": {
      "name": "python"
    }
  },
  "nbformat": 4,
  "nbformat_minor": 0
}